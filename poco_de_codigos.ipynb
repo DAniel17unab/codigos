{
  "nbformat": 4,
  "nbformat_minor": 0,
  "metadata": {
    "colab": {
      "name": "poco de codigos",
      "provenance": []
    },
    "kernelspec": {
      "name": "python3",
      "display_name": "Python 3"
    },
    "language_info": {
      "name": "python"
    }
  },
  "cells": [
    {
      "cell_type": "code",
      "execution_count": null,
      "metadata": {
        "colab": {
          "base_uri": "https://localhost:8080/"
        },
        "id": "D1uUcigTm1rp",
        "outputId": "ea740818-9412-4dcc-f72d-be256e254190"
      },
      "outputs": [
        {
          "output_type": "stream",
          "name": "stdout",
          "text": [
            "pun un numero8\n",
            "pon otro hermos@7\n",
            "1 es inexacta\n"
          ]
        }
      ],
      "source": [
        "d= int(input(\"pun un numero\"))\n",
        "r= int(input(\"pon otro hermos@\"))\n",
        "b=d%r \n",
        "if b == 0:\n",
        "  print((b),\"es exacta\")\n",
        "else:\n",
        "  print((b),\"es inexacta\")\n",
        "\n",
        "\n"
      ]
    },
    {
      "cell_type": "code",
      "source": [
        "\n"
      ],
      "metadata": {
        "id": "z2AiY2MqzUWf"
      },
      "execution_count": null,
      "outputs": []
    }
  ]
}